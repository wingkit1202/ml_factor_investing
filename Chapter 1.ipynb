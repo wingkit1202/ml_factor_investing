{
 "cells": [
  {
   "cell_type": "code",
   "execution_count": 1,
   "id": "18d31cdc-4ae4-4d40-9975-8f18ac16bfee",
   "metadata": {},
   "outputs": [],
   "source": [
    "import pandas as pd\n",
    "import matplotlib.pyplot as plt"
   ]
  },
  {
   "cell_type": "code",
   "execution_count": 2,
   "id": "ee3670c2-7ada-43df-b40b-77a81bad69b4",
   "metadata": {},
   "outputs": [],
   "source": [
    "data_raw = pd.read_csv('data_ml.csv', index_col=0)\n",
    "data_raw.reset_index(inplace=True)\n",
    "del data_raw['index']"
   ]
  },
  {
   "cell_type": "code",
   "execution_count": 3,
   "id": "05aeda53-da47-42ba-9a75-29082f9e33f3",
   "metadata": {},
   "outputs": [],
   "source": [
    "idx_date = data_raw.index[(data_raw['date'] > '1999-12-31') & (data_raw['date'] < '2019-01-01')].to_list()"
   ]
  },
  {
   "cell_type": "code",
   "execution_count": 4,
   "id": "4f221d57-cd22-4778-90bc-302198e7de98",
   "metadata": {},
   "outputs": [],
   "source": [
    "data_ml = data_raw.iloc[idx_date]"
   ]
  },
  {
   "cell_type": "code",
   "execution_count": 5,
   "id": "67a8834b-7ad2-443e-a56c-4cc38e352337",
   "metadata": {},
   "outputs": [
    {
     "data": {
      "text/html": [
       "<div>\n",
       "<style scoped>\n",
       "    .dataframe tbody tr th:only-of-type {\n",
       "        vertical-align: middle;\n",
       "    }\n",
       "\n",
       "    .dataframe tbody tr th {\n",
       "        vertical-align: top;\n",
       "    }\n",
       "\n",
       "    .dataframe thead th {\n",
       "        text-align: right;\n",
       "    }\n",
       "</style>\n",
       "<table border=\"1\" class=\"dataframe\">\n",
       "  <thead>\n",
       "    <tr style=\"text-align: right;\">\n",
       "      <th></th>\n",
       "      <th>stock_id</th>\n",
       "      <th>date</th>\n",
       "      <th>Advt_12M_Usd</th>\n",
       "      <th>Advt_3M_Usd</th>\n",
       "      <th>Advt_6M_Usd</th>\n",
       "      <th>Asset_Turnover</th>\n",
       "    </tr>\n",
       "  </thead>\n",
       "  <tbody>\n",
       "    <tr>\n",
       "      <th>0</th>\n",
       "      <td>13</td>\n",
       "      <td>2006-12-31</td>\n",
       "      <td>0.25</td>\n",
       "      <td>0.33</td>\n",
       "      <td>0.27</td>\n",
       "      <td>0.22</td>\n",
       "    </tr>\n",
       "    <tr>\n",
       "      <th>1</th>\n",
       "      <td>13</td>\n",
       "      <td>2007-01-31</td>\n",
       "      <td>0.25</td>\n",
       "      <td>0.32</td>\n",
       "      <td>0.28</td>\n",
       "      <td>0.22</td>\n",
       "    </tr>\n",
       "    <tr>\n",
       "      <th>2</th>\n",
       "      <td>13</td>\n",
       "      <td>2007-02-28</td>\n",
       "      <td>0.26</td>\n",
       "      <td>0.30</td>\n",
       "      <td>0.30</td>\n",
       "      <td>0.22</td>\n",
       "    </tr>\n",
       "    <tr>\n",
       "      <th>3</th>\n",
       "      <td>17</td>\n",
       "      <td>2015-03-31</td>\n",
       "      <td>0.73</td>\n",
       "      <td>0.64</td>\n",
       "      <td>0.70</td>\n",
       "      <td>0.40</td>\n",
       "    </tr>\n",
       "    <tr>\n",
       "      <th>4</th>\n",
       "      <td>17</td>\n",
       "      <td>2015-04-30</td>\n",
       "      <td>0.72</td>\n",
       "      <td>0.62</td>\n",
       "      <td>0.66</td>\n",
       "      <td>0.40</td>\n",
       "    </tr>\n",
       "    <tr>\n",
       "      <th>5</th>\n",
       "      <td>17</td>\n",
       "      <td>2015-05-31</td>\n",
       "      <td>0.71</td>\n",
       "      <td>0.63</td>\n",
       "      <td>0.64</td>\n",
       "      <td>0.40</td>\n",
       "    </tr>\n",
       "  </tbody>\n",
       "</table>\n",
       "</div>"
      ],
      "text/plain": [
       "   stock_id        date  Advt_12M_Usd  Advt_3M_Usd  Advt_6M_Usd  \\\n",
       "0        13  2006-12-31          0.25         0.33         0.27   \n",
       "1        13  2007-01-31          0.25         0.32         0.28   \n",
       "2        13  2007-02-28          0.26         0.30         0.30   \n",
       "3        17  2015-03-31          0.73         0.64         0.70   \n",
       "4        17  2015-04-30          0.72         0.62         0.66   \n",
       "5        17  2015-05-31          0.71         0.63         0.64   \n",
       "\n",
       "   Asset_Turnover  \n",
       "0            0.22  \n",
       "1            0.22  \n",
       "2            0.22  \n",
       "3            0.40  \n",
       "4            0.40  \n",
       "5            0.40  "
      ]
     },
     "execution_count": 5,
     "metadata": {},
     "output_type": "execute_result"
    }
   ],
   "source": [
    "data_ml.iloc[0:6,0:6]"
   ]
  },
  {
   "cell_type": "code",
   "execution_count": 6,
   "id": "fa320727-bb7c-4211-875e-be705bc4ea80",
   "metadata": {},
   "outputs": [
    {
     "data": {
      "image/png": "[encoded data removed]",
      "text/plain": [
       "<Figure size 800x400 with 1 Axes>"
      ]
     },
     "metadata": {},
     "output_type": "display_data"
    }
   ],
   "source": [
    "pd.Series(data_ml.groupby('date').size()).plot(figsize=(8, 4))\n",
    "plt.ylabel('nb_assets')\n",
    "plt.show()"
   ]
  },
  {
   "cell_type": "code",
   "execution_count": null,
   "id": "2ce9e880-7606-4e7a-aeb2-1f79d5f523ce",
   "metadata": {},
   "outputs": [],
   "source": []
  }
 ],
 "metadata": {
  "kernelspec": {
   "display_name": "Python 3 (ipykernel)",
   "language": "python",
   "name": "python3"
  },
  "language_info": {
   "codemirror_mode": {
    "name": "ipython",
    "version": 3
   },
   "file_extension": ".py",
   "mimetype": "text/x-python",
   "name": "python",
   "nbconvert_exporter": "python",
   "pygments_lexer": "ipython3",
   "version": "3.12.4"
  }
 },
 "nbformat": 4,
 "nbformat_minor": 5
}
